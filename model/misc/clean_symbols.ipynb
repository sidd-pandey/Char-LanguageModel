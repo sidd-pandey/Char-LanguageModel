{
 "cells": [
  {
   "cell_type": "code",
   "execution_count": 22,
   "metadata": {},
   "outputs": [],
   "source": [
    "import unicodedata\n",
    "def strip_accents(s):\n",
    "    return ''.join(c for c in unicodedata.normalize('NFD', s)\n",
    "                  if unicodedata.category(c) != 'Mn')"
   ]
  },
  {
   "cell_type": "code",
   "execution_count": 34,
   "metadata": {},
   "outputs": [],
   "source": [
    "with open(\"../data/all_story.txt\", encoding=\"utf-8-sig\") as f:\n",
    "    all_story = f.read().lower()\n",
    "    all_story = all_story.replace(\"\\n\", \" \")\n",
    "    all_story = all_story.replace(\"  \", \" \")\n",
    "    all_story = strip_accents(all_story)\n",
    "    chars_to_remove = [\"{\", \"}\", \"£\",\"½\",\"æ\",\"œ\", \"(\",\")\",\"[\", \"]\", \"_\",\"/\",\"—\",\"*\",\":\"]\n",
    "    for c in chars_to_remove:\n",
    "        all_story = all_story.replace(c, \" \").replace(\"  \", \" \")"
   ]
  },
  {
   "cell_type": "code",
   "execution_count": 37,
   "metadata": {},
   "outputs": [],
   "source": [
    "with open(\"../data/all_story_cleaned.txt\", \"w\", encoding=\"utf-8\") as f:\n",
    "    f.write(all_story)\n",
    "    f.flush()"
   ]
  },
  {
   "cell_type": "code",
   "execution_count": 36,
   "metadata": {},
   "outputs": [
    {
     "data": {
      "text/plain": [
       "50"
      ]
     },
     "execution_count": 36,
     "metadata": {},
     "output_type": "execute_result"
    }
   ],
   "source": [
    "len(sorted(list(set(all_story))))"
   ]
  },
  {
   "cell_type": "code",
   "execution_count": 1,
   "metadata": {},
   "outputs": [],
   "source": [
    "with open(\"../data/all_story_cleaned.txt\", \"r\", encoding=\"utf-8\") as f:\n",
    "    all_story_cleaned = f.read()"
   ]
  },
  {
   "cell_type": "code",
   "execution_count": 3,
   "metadata": {},
   "outputs": [
    {
     "data": {
      "text/plain": [
       "469885.94"
      ]
     },
     "execution_count": 3,
     "metadata": {},
     "output_type": "execute_result"
    }
   ],
   "source": [
    "len(all_story_cleaned) / 50"
   ]
  },
  {
   "cell_type": "code",
   "execution_count": 43,
   "metadata": {},
   "outputs": [],
   "source": [
    "chars = sorted(list(set(all_story)))\n",
    "char_to_int = { c:i for i, c in enumerate(chars)}\n",
    "int_to_char = {char_to_int[k]:k for k in char_to_int}"
   ]
  },
  {
   "cell_type": "code",
   "execution_count": 45,
   "metadata": {},
   "outputs": [],
   "source": [
    "import json\n",
    "\n",
    "with open(\"../vocab/vocab_clenaed-50.json\", \"w\", encoding = \"utf-8\") as f:\n",
    "    json.dump({\"char_to_int\": char_to_int,\n",
    "              \"int_to_char\":int_to_char}, f)"
   ]
  },
  {
   "cell_type": "markdown",
   "metadata": {},
   "source": [
    "<br><br><br><br><br><br><br><br><br><br><br><br><br><br><br><br><br><br>"
   ]
  }
 ],
 "metadata": {
  "kernelspec": {
   "display_name": "Python 3",
   "language": "python",
   "name": "python3"
  },
  "language_info": {
   "codemirror_mode": {
    "name": "ipython",
    "version": 3
   },
   "file_extension": ".py",
   "mimetype": "text/x-python",
   "name": "python",
   "nbconvert_exporter": "python",
   "pygments_lexer": "ipython3",
   "version": "3.6.6"
  }
 },
 "nbformat": 4,
 "nbformat_minor": 2
}
